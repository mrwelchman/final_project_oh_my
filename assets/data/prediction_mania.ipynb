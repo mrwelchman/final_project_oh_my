{
 "cells": [
  {
   "cell_type": "code",
   "execution_count": 1,
   "metadata": {},
   "outputs": [],
   "source": [
    "import pandas as pd\n",
    "import numpy as np"
   ]
  },
  {
   "cell_type": "code",
   "execution_count": 2,
   "metadata": {},
   "outputs": [],
   "source": [
    "games = pd.read_csv('full_2020_season.csv')\n",
    "ratings = pd.read_csv('team_ratings.csv')"
   ]
  },
  {
   "cell_type": "code",
   "execution_count": 10,
   "metadata": {},
   "outputs": [
    {
     "name": "stderr",
     "output_type": "stream",
     "text": [
      "<ipython-input-10-b0036791ed6e>:8: FutureWarning: `item` has been deprecated and will be removed in a future version\n",
      "  if (vis_odds['rating'].item() > home_odds['rating'].item()):\n",
      "<ipython-input-10-b0036791ed6e>:10: FutureWarning: `item` has been deprecated and will be removed in a future version\n",
      "  elif (home_odds['rating'].item() > vis_odds['rating'].item()):\n"
     ]
    }
   ],
   "source": [
    "ridge_likely_win = []\n",
    "ridge_actual_win = []\n",
    "for i in range(len(games.index)):\n",
    "    visitor_team = games.at[i,'Visitor Team']\n",
    "    home_team = games.at[i,'Home Team']\n",
    "    vis_odds = ratings.loc[ratings['team'] == visitor_team,:].reset_index()\n",
    "    home_odds = ratings.loc[ratings['team'] == home_team,:].reset_index()\n",
    "    if (vis_odds['rating'].item() > home_odds['rating'].item()):\n",
    "        ridge_likely_win.append(visitor_team)\n",
    "    elif (home_odds['rating'].item() > vis_odds['rating'].item()):\n",
    "        ridge_likely_win.append(home_team)\n",
    "    elif (home_odds['rating'].item() == vis_odds['rating'].item()):\n",
    "        ridge_likely_win.append('Tie')\n",
    "    else:\n",
    "        ridge_likely_win.append(' ')\n",
    "    visitor_pts = games.at[i,'Visitor Team Score']\n",
    "    home_pts = games.at[i,'Home Team Score']\n",
    "    if (visitor_pts > home_pts):\n",
    "        ridge_actual_win.append(visitor_team)\n",
    "    elif (home_pts > visitor_pts):\n",
    "        ridge_actual_win.append(home_team)\n",
    "    elif (home_pts == visitor_pts):\n",
    "        ridge_actual_win.append('Tie')\n",
    "    else:\n",
    "        ridge_actual_win.append(' ')"
   ]
  },
  {
   "cell_type": "code",
   "execution_count": 12,
   "metadata": {},
   "outputs": [],
   "source": [
    "games['Likely to Win'] = ridge_likely_win"
   ]
  },
  {
   "cell_type": "code",
   "execution_count": 13,
   "metadata": {},
   "outputs": [],
   "source": [
    "games['Actual Win'] = ridge_actual_win"
   ]
  },
  {
   "cell_type": "code",
   "execution_count": 14,
   "metadata": {},
   "outputs": [],
   "source": [
    "ridge_odds_count = 0\n",
    "for i in range(len(games.index)):\n",
    "    if (games.at[i,'Likely to Win'] == games.at[i,'Actual Win']):\n",
    "        ridge_odds_count = ridge_odds_count + 1"
   ]
  },
  {
   "cell_type": "code",
   "execution_count": 15,
   "metadata": {},
   "outputs": [
    {
     "data": {
      "text/plain": [
       "728"
      ]
     },
     "execution_count": 15,
     "metadata": {},
     "output_type": "execute_result"
    }
   ],
   "source": [
    "ridge_odds_count"
   ]
  },
  {
   "cell_type": "code",
   "execution_count": 16,
   "metadata": {},
   "outputs": [
    {
     "data": {
      "text/plain": [
       "0.6546762589928058"
      ]
     },
     "execution_count": 16,
     "metadata": {},
     "output_type": "execute_result"
    }
   ],
   "source": [
    "728/1112"
   ]
  },
  {
   "cell_type": "code",
   "execution_count": null,
   "metadata": {},
   "outputs": [],
   "source": []
  }
 ],
 "metadata": {
  "kernelspec": {
   "display_name": "Python 3",
   "language": "python",
   "name": "python3"
  },
  "language_info": {
   "codemirror_mode": {
    "name": "ipython",
    "version": 3
   },
   "file_extension": ".py",
   "mimetype": "text/x-python",
   "name": "python",
   "nbconvert_exporter": "python",
   "pygments_lexer": "ipython3",
   "version": "3.8.5"
  }
 },
 "nbformat": 4,
 "nbformat_minor": 4
}
